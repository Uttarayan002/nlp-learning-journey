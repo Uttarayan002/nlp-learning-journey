{
  "nbformat": 4,
  "nbformat_minor": 0,
  "metadata": {
    "colab": {
      "provenance": []
    },
    "kernelspec": {
      "name": "python3",
      "display_name": "Python 3"
    },
    "language_info": {
      "name": "python"
    }
  },
  "cells": [
    {
      "cell_type": "code",
      "execution_count": 1,
      "metadata": {
        "id": "ZatO-mbmL-w_"
      },
      "outputs": [],
      "source": [
        "import spacy\n",
        "from sklearn.feature_extraction.text import TfidfVectorizer\n",
        "import numpy as np"
      ]
    },
    {
      "cell_type": "code",
      "source": [
        "# Load spaCy model\n",
        "nlp = spacy.load('en_core_web_sm')\n",
        "\n",
        "text = \"\"\"The universal mind, or universal consciousness theory, is a metaphysical concept suggesting an individuating essence of all beings and becomings in the universe.\n",
        "It includes the being and becoming that occurred in the universe prior to the emergence of the concept of mind, or \"persona\" according to Carl Jung.\n",
        "This term refers to a singular, select consciousness within each being. The human aspect of universal (global) consciousness, in the opinion of Jacob Robert Davis, can network.\n",
        "It addresses psychological being and becoming. The interactions that occur in that process without specific reference to the physical and chemical laws that try to describe those interactions.\n",
        "Those interactions have occurred, do occur, and continue to occur.\n",
        "Universal consciousness is the source that underlies those interactions and the awareness and knowledge they imply.\n",
        "\"\"\"\n",
        "\n",
        "# Break into sentences\n",
        "doc = nlp(text)\n",
        "sentences = [sent.text.strip() for sent in doc.sents]\n"
      ],
      "metadata": {
        "id": "Q3e7jUTKBTrt"
      },
      "execution_count": 2,
      "outputs": []
    },
    {
      "cell_type": "code",
      "source": [
        "vectorizer = TfidfVectorizer()\n",
        "X = vectorizer.fit_transform(sentences)\n",
        "scores = X.sum(axis=1).A1  # Sum TF-IDF scores for each sentence\n"
      ],
      "metadata": {
        "id": "TuJfEvqjBT4L"
      },
      "execution_count": 3,
      "outputs": []
    },
    {
      "cell_type": "code",
      "source": [
        "summary_sentences = []\n",
        "\n",
        "for i, sent in enumerate(doc.sents):\n",
        "    ner_score = sum(1 for ent in sent.ents if ent.label_ in ['ORG', 'PERSON', 'PRODUCT'])\n",
        "    chunk_score = len(list(sent.noun_chunks))\n",
        "    total_score = scores[i] + ner_score + chunk_score  # Combine scores\n",
        "    summary_sentences.append((sent.text.strip(), total_score))\n",
        "\n",
        "# Sort and pick top 2-3\n",
        "summary_sentences = sorted(summary_sentences, key=lambda x: x[1], reverse=True)\n",
        "summary = \"\\n\".join([s[0] for s in summary_sentences[:3]])\n",
        "print(\"Summary:\\n\", summary)\n"
      ],
      "metadata": {
        "colab": {
          "base_uri": "https://localhost:8080/"
        },
        "id": "C45E-si6BUCB",
        "outputId": "8e24e464-481b-443a-971e-fa55a46590e9"
      },
      "execution_count": 4,
      "outputs": [
        {
          "output_type": "stream",
          "name": "stdout",
          "text": [
            "Summary:\n",
            " It includes the being and becoming that occurred in the universe prior to the emergence of the concept of mind, or \"persona\" according to Carl Jung.\n",
            "The universal mind, or universal consciousness theory, is a metaphysical concept suggesting an individuating essence of all beings and becomings in the universe.\n",
            "The interactions that occur in that process without specific reference to the physical and chemical laws that try to describe those interactions.\n"
          ]
        }
      ]
    }
  ]
}